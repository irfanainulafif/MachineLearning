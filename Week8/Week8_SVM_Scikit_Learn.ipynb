{
  "nbformat": 4,
  "nbformat_minor": 0,
  "metadata": {
    "colab": {
      "name": "Week8 SVM Scikit Learn.ipynb",
      "provenance": [],
      "authorship_tag": "ABX9TyMO3w/m3uUR5j+H/k7HCGqs"
    },
    "kernelspec": {
      "name": "python3",
      "display_name": "Python 3"
    },
    "language_info": {
      "name": "python"
    }
  },
  "cells": [
    {
      "cell_type": "code",
      "execution_count": 1,
      "metadata": {
        "id": "ql3vKDiloAuU"
      },
      "outputs": [],
      "source": [
        "import numpy as np\n",
        "import matplotlib.pyplot as plt\n",
        "from sklearn import svm\n",
        "from sklearn.datasets import make_blobs\n",
        "from sklearn.svm import SVR\n",
        "from sklearn import datasets"
      ]
    },
    {
      "cell_type": "markdown",
      "source": [
        "# Classification"
      ],
      "metadata": {
        "id": "95AkKm5roXAW"
      }
    },
    {
      "cell_type": "code",
      "source": [
        "from sklearn import svm\n",
        "X = [[0, 0], [1, 1]]\n",
        "y = [0, 1]\n",
        "clf = svm.SVC()\n",
        "clf.fit(X, y)"
      ],
      "metadata": {
        "colab": {
          "base_uri": "https://localhost:8080/"
        },
        "id": "ks4YrVm6oN-m",
        "outputId": "bd583223-5550-4948-e006-0d2b74dbb020"
      },
      "execution_count": 2,
      "outputs": [
        {
          "output_type": "execute_result",
          "data": {
            "text/plain": [
              "SVC()"
            ]
          },
          "metadata": {},
          "execution_count": 2
        }
      ]
    },
    {
      "cell_type": "code",
      "source": [
        "clf.predict([[2., 2.]])"
      ],
      "metadata": {
        "colab": {
          "base_uri": "https://localhost:8080/"
        },
        "id": "10fUWEhOofb3",
        "outputId": "4c1ec0d4-b288-4b22-92dc-5b2c10a0f5a8"
      },
      "execution_count": 3,
      "outputs": [
        {
          "output_type": "execute_result",
          "data": {
            "text/plain": [
              "array([1])"
            ]
          },
          "metadata": {},
          "execution_count": 3
        }
      ]
    },
    {
      "cell_type": "code",
      "source": [
        "# get support vectors\n",
        "clf.support_vectors_\n",
        "# get indices of support vectors\n",
        "clf.support_\n",
        "# get number of support vectors for each class\n",
        "clf.n_support_"
      ],
      "metadata": {
        "colab": {
          "base_uri": "https://localhost:8080/"
        },
        "id": "xwfpTIL7oiL3",
        "outputId": "81527a67-d032-490a-c461-5ede9579d071"
      },
      "execution_count": 4,
      "outputs": [
        {
          "output_type": "execute_result",
          "data": {
            "text/plain": [
              "array([1, 1], dtype=int32)"
            ]
          },
          "metadata": {},
          "execution_count": 4
        }
      ]
    },
    {
      "cell_type": "markdown",
      "source": [
        "# Multiclass Classification"
      ],
      "metadata": {
        "id": "aUl63VLUomoW"
      }
    },
    {
      "cell_type": "code",
      "source": [
        "X = [[0], [1], [2], [3]]\n",
        "Y = [0, 1, 2, 3]\n",
        "clf = svm.SVC(decision_function_shape='ovo')\n",
        "clf.fit(X, Y)"
      ],
      "metadata": {
        "colab": {
          "base_uri": "https://localhost:8080/"
        },
        "id": "Q3l7hOteoq-m",
        "outputId": "8e07a375-f05d-47ac-9e6b-fcf35e0f2a65"
      },
      "execution_count": 5,
      "outputs": [
        {
          "output_type": "execute_result",
          "data": {
            "text/plain": [
              "SVC(decision_function_shape='ovo')"
            ]
          },
          "metadata": {},
          "execution_count": 5
        }
      ]
    },
    {
      "cell_type": "code",
      "source": [
        "dec = clf.decision_function([[1]])\n",
        "dec.shape[1]"
      ],
      "metadata": {
        "colab": {
          "base_uri": "https://localhost:8080/"
        },
        "id": "4q0OFyV-oteW",
        "outputId": "fce11069-8241-4e4c-8371-73081b6bbac0"
      },
      "execution_count": 6,
      "outputs": [
        {
          "output_type": "execute_result",
          "data": {
            "text/plain": [
              "6"
            ]
          },
          "metadata": {},
          "execution_count": 6
        }
      ]
    },
    {
      "cell_type": "code",
      "source": [
        "clf.decision_function_shape = \"ovr\"\n",
        "dec = clf.decision_function([[1]])\n",
        "dec.shape[1]"
      ],
      "metadata": {
        "colab": {
          "base_uri": "https://localhost:8080/"
        },
        "id": "lz4CBbAGovhe",
        "outputId": "02cd9ee0-3271-48c1-cd8e-98536068e2fb"
      },
      "execution_count": 7,
      "outputs": [
        {
          "output_type": "execute_result",
          "data": {
            "text/plain": [
              "4"
            ]
          },
          "metadata": {},
          "execution_count": 7
        }
      ]
    },
    {
      "cell_type": "markdown",
      "source": [
        "# Regression"
      ],
      "metadata": {
        "id": "4bk-iAjGoyGO"
      }
    },
    {
      "cell_type": "code",
      "source": [
        "X = [[0, 0], [2, 2]]\n",
        "y = [0.5, 2.5]\n",
        "regr = svm.SVR()\n",
        "regr.fit(X, y)"
      ],
      "metadata": {
        "colab": {
          "base_uri": "https://localhost:8080/"
        },
        "id": "5kjbdvlTo0i_",
        "outputId": "835a1681-4e38-471a-ba4a-de1dbf4c2194"
      },
      "execution_count": 8,
      "outputs": [
        {
          "output_type": "execute_result",
          "data": {
            "text/plain": [
              "SVR()"
            ]
          },
          "metadata": {},
          "execution_count": 8
        }
      ]
    },
    {
      "cell_type": "code",
      "source": [
        "regr.predict([[1, 1]])"
      ],
      "metadata": {
        "colab": {
          "base_uri": "https://localhost:8080/"
        },
        "id": "oNeSSqvuo56G",
        "outputId": "1c51d907-ce76-4486-e5fd-7ed1e77bb2db"
      },
      "execution_count": 9,
      "outputs": [
        {
          "output_type": "execute_result",
          "data": {
            "text/plain": [
              "array([1.5])"
            ]
          },
          "metadata": {},
          "execution_count": 9
        }
      ]
    }
  ]
}