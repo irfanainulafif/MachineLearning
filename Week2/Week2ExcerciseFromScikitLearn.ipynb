{
  "nbformat": 4,
  "nbformat_minor": 0,
  "metadata": {
    "colab": {
      "name": "Week2ExcerciseFromScikitLearn.ipynb",
      "provenance": [],
      "authorship_tag": "ABX9TyPk68y6kN0NkvqU8pLRUNFi"
    },
    "kernelspec": {
      "name": "python3",
      "display_name": "Python 3"
    },
    "language_info": {
      "name": "python"
    }
  },
  "cells": [
    {
      "cell_type": "code",
      "metadata": {
        "id": "jcNXo9Dq5a1F"
      },
      "source": [
        "import pandas as pd\n",
        "import numpy as np\n",
        "import seaborn as sns\n",
        "import matplotlib"
      ],
      "execution_count": 1,
      "outputs": []
    },
    {
      "cell_type": "code",
      "metadata": {
        "colab": {
          "base_uri": "https://localhost:8080/",
          "height": 303
        },
        "id": "Gipti6iQ6qbg",
        "outputId": "bd3a8b0f-d662-448b-f779-905e06dc4c83"
      },
      "source": [
        "!pip uninstall scikit-learn -y\n",
        "\n",
        "!pip install -U scikit-learn"
      ],
      "execution_count": 5,
      "outputs": [
        {
          "output_type": "stream",
          "name": "stdout",
          "text": [
            "Found existing installation: scikit-learn 1.0.1\n",
            "Uninstalling scikit-learn-1.0.1:\n",
            "  Successfully uninstalled scikit-learn-1.0.1\n",
            "Collecting scikit-learn\n",
            "  Downloading scikit_learn-1.0.1-cp37-cp37m-manylinux_2_12_x86_64.manylinux2010_x86_64.whl (23.2 MB)\n",
            "\u001b[K     |████████████████████████████████| 23.2 MB 70 kB/s \n",
            "\u001b[?25hRequirement already satisfied: numpy>=1.14.6 in /usr/local/lib/python3.7/dist-packages (from scikit-learn) (1.19.5)\n",
            "Requirement already satisfied: joblib>=0.11 in /usr/local/lib/python3.7/dist-packages (from scikit-learn) (1.1.0)\n",
            "Requirement already satisfied: threadpoolctl>=2.0.0 in /usr/local/lib/python3.7/dist-packages (from scikit-learn) (3.0.0)\n",
            "Requirement already satisfied: scipy>=1.1.0 in /usr/local/lib/python3.7/dist-packages (from scikit-learn) (1.4.1)\n",
            "Installing collected packages: scikit-learn\n",
            "Successfully installed scikit-learn-1.0.1\n"
          ]
        },
        {
          "output_type": "display_data",
          "data": {
            "application/vnd.colab-display-data+json": {
              "pip_warning": {
                "packages": [
                  "sklearn"
                ]
              }
            }
          },
          "metadata": {}
        }
      ]
    },
    {
      "cell_type": "code",
      "metadata": {
        "colab": {
          "base_uri": "https://localhost:8080/"
        },
        "id": "neciOVnD6A9M",
        "outputId": "6b49a657-48bf-4499-9a23-79af0af7f4e4"
      },
      "source": [
        "from sklearn import linear_model\n",
        "from sklearn import linear_model as linear\n",
        "reg = linear.LinearRegression()\n",
        "reg.fit([[0, 0], [1, 1], [2, 2]], [0, 1, 2])\n",
        "\n",
        "reg.coef_"
      ],
      "execution_count": 3,
      "outputs": [
        {
          "output_type": "execute_result",
          "data": {
            "text/plain": [
              "array([0.5, 0.5])"
            ]
          },
          "metadata": {},
          "execution_count": 3
        }
      ]
    },
    {
      "cell_type": "markdown",
      "metadata": {
        "id": "eWVJsT7K9YC4"
      },
      "source": [
        "# Example Linear Regretion"
      ]
    },
    {
      "cell_type": "code",
      "metadata": {
        "colab": {
          "base_uri": "https://localhost:8080/",
          "height": 319
        },
        "id": "seIOXutY8LwH",
        "outputId": "e349cbd5-8136-4f06-e4fa-cf3064947deb"
      },
      "source": [
        "import matplotlib.pyplot as plt\n",
        "import numpy as np\n",
        "from sklearn import datasets, linear_model\n",
        "from sklearn.metrics import mean_squared_error, r2_score\n",
        "\n",
        "# Load the diabetes dataset\n",
        "diabetes_X, diabetes_y = datasets.load_diabetes(return_X_y=True)\n",
        "\n",
        "# Use only one feature\n",
        "diabetes_X = diabetes_X[:, np.newaxis, 2]\n",
        "\n",
        "# Split the data into training/testing sets\n",
        "diabetes_X_train = diabetes_X[:-20]\n",
        "diabetes_X_test = diabetes_X[-20:]\n",
        "\n",
        "# Split the targets into training/testing sets\n",
        "diabetes_y_train = diabetes_y[:-20]\n",
        "diabetes_y_test = diabetes_y[-20:]\n",
        "\n",
        "# Create linear regression object\n",
        "regr = linear_model.LinearRegression()\n",
        "\n",
        "# Train the model using the training sets\n",
        "regr.fit(diabetes_X_train, diabetes_y_train)\n",
        "\n",
        "# Make predictions using the testing set\n",
        "diabetes_y_pred = regr.predict(diabetes_X_test)\n",
        "\n",
        "# The coefficients\n",
        "print(\"Coefficients: \\n\", regr.coef_)\n",
        "# The mean squared error\n",
        "print(\"Mean squared error: %.2f\" % mean_squared_error(diabetes_y_test, diabetes_y_pred))\n",
        "# The coefficient of determination: 1 is perfect prediction\n",
        "print(\"Coefficient of determination: %.2f\" % r2_score(diabetes_y_test, diabetes_y_pred))\n",
        "\n",
        "# Plot outputs\n",
        "plt.scatter(diabetes_X_test, diabetes_y_test, color=\"black\")\n",
        "plt.plot(diabetes_X_test, diabetes_y_pred, color=\"blue\", linewidth=3)\n",
        "\n",
        "plt.xticks(())\n",
        "plt.yticks(())\n",
        "\n",
        "plt.show()"
      ],
      "execution_count": 4,
      "outputs": [
        {
          "output_type": "stream",
          "name": "stdout",
          "text": [
            "Coefficients: \n",
            " [938.23786125]\n",
            "Mean squared error: 2548.07\n",
            "Coefficient of determination: 0.47\n"
          ]
        },
        {
          "output_type": "display_data",
          "data": {
            "image/png": "[encoded data removed]",
            "text/plain": [
              "<Figure size 432x288 with 1 Axes>"
            ]
          },
          "metadata": {}
        }
      ]
    },
    {
      "cell_type": "markdown",
      "metadata": {
        "id": "0u1zOnhe-N_X"
      },
      "source": [
        "# Non-negative least squares"
      ]
    },
    {
      "cell_type": "code",
      "metadata": {
        "id": "ItFCfOxj8M-r"
      },
      "source": [
        "import numpy as np\n",
        "import matplotlib.pyplot as plt\n",
        "from sklearn.metrics import r2_score"
      ],
      "execution_count": 5,
      "outputs": []
    },
    {
      "cell_type": "code",
      "metadata": {
        "id": "mCo3ddKT9vgv"
      },
      "source": [
        "np.random.seed(42)\n",
        "\n",
        "n_samples, n_features = 200, 50\n",
        "X = np.random.randn(n_samples, n_features)\n",
        "true_coef = 3 * np.random.randn(n_features)\n",
        "# Threshold coefficients to render them non-negative\n",
        "true_coef[true_coef < 0] = 0\n",
        "y = np.dot(X, true_coef)\n",
        "\n",
        "# Add some noise\n",
        "y += 5 * np.random.normal(size=(n_samples,))"
      ],
      "execution_count": 6,
      "outputs": []
    },
    {
      "cell_type": "code",
      "metadata": {
        "id": "1Rul0Q9r93VO"
      },
      "source": [
        "from sklearn.model_selection import train_test_split\n",
        "\n",
        "X_train, X_test, y_train, y_test = train_test_split(X, y, test_size=0.5)"
      ],
      "execution_count": 7,
      "outputs": []
    },
    {
      "cell_type": "code",
      "metadata": {
        "colab": {
          "base_uri": "https://localhost:8080/"
        },
        "id": "uzq0gcTT96Iz",
        "outputId": "65fc16ee-c056-40f4-a9c0-fdf9ce468f4c"
      },
      "source": [
        "from sklearn.linear_model import LinearRegression\n",
        "\n",
        "reg_nnls = LinearRegression(positive=True)\n",
        "y_pred_nnls = reg_nnls.fit(X_train, y_train).predict(X_test)\n",
        "r2_score_nnls = r2_score(y_test, y_pred_nnls)\n",
        "print(\"NNLS R2 score\", r2_score_nnls)"
      ],
      "execution_count": 8,
      "outputs": [
        {
          "output_type": "stream",
          "name": "stdout",
          "text": [
            "NNLS R2 score 0.8225220806196525\n"
          ]
        }
      ]
    },
    {
      "cell_type": "code",
      "metadata": {
        "colab": {
          "base_uri": "https://localhost:8080/"
        },
        "id": "ajq7PUI998Vf",
        "outputId": "00e11720-dc54-4470-f71f-16ff587b1af6"
      },
      "source": [
        "reg_ols = LinearRegression()\n",
        "y_pred_ols = reg_ols.fit(X_train, y_train).predict(X_test)\n",
        "r2_score_ols = r2_score(y_test, y_pred_ols)\n",
        "print(\"OLS R2 score\", r2_score_ols)"
      ],
      "execution_count": 9,
      "outputs": [
        {
          "output_type": "stream",
          "name": "stdout",
          "text": [
            "OLS R2 score 0.7436926291700348\n"
          ]
        }
      ]
    },
    {
      "cell_type": "code",
      "metadata": {
        "colab": {
          "base_uri": "https://localhost:8080/",
          "height": 296
        },
        "id": "B3xQ4J-j-Bjd",
        "outputId": "359ccad4-9465-46c6-c57a-0561e50a8613"
      },
      "source": [
        "fig, ax = plt.subplots()\n",
        "ax.plot(reg_ols.coef_, reg_nnls.coef_, linewidth=0, marker=\".\")\n",
        "\n",
        "low_x, high_x = ax.get_xlim()\n",
        "low_y, high_y = ax.get_ylim()\n",
        "low = max(low_x, low_y)\n",
        "high = min(high_x, high_y)\n",
        "ax.plot([low, high], [low, high], ls=\"--\", c=\".3\", alpha=0.5)\n",
        "ax.set_xlabel(\"OLS regression coefficients\", fontweight=\"bold\")\n",
        "ax.set_ylabel(\"NNLS regression coefficients\", fontweight=\"bold\")"
      ],
      "execution_count": 10,
      "outputs": [
        {
          "output_type": "execute_result",
          "data": {
            "text/plain": [
              "Text(0, 0.5, 'NNLS regression coefficients')"
            ]
          },
          "metadata": {},
          "execution_count": 10
        },
        {
          "output_type": "display_data",
          "data": {
            "image/png": "[encoded data removed]",
            "text/plain": [
              "<Figure size 432x288 with 1 Axes>"
            ]
          },
          "metadata": {
            "needs_background": "light"
          }
        }
      ]
    },
    {
      "cell_type": "code",
      "metadata": {
        "colab": {
          "base_uri": "https://localhost:8080/"
        },
        "id": "zX8KcNma-Ew8",
        "outputId": "1a5d777e-d65a-4f89-e4f5-fa78fc80d579"
      },
      "source": [
        "import logging\n",
        "import numpy as np\n",
        "from optparse import OptionParser\n",
        "import sys\n",
        "from time import time\n",
        "import matplotlib.pyplot as plt\n",
        "\n",
        "from sklearn.datasets import fetch_20newsgroups\n",
        "from sklearn.feature_extraction.text import TfidfVectorizer\n",
        "from sklearn.feature_extraction.text import HashingVectorizer\n",
        "from sklearn.feature_selection import SelectFromModel\n",
        "from sklearn.feature_selection import SelectKBest, chi2\n",
        "from sklearn.linear_model import RidgeClassifier\n",
        "from sklearn.pipeline import Pipeline\n",
        "from sklearn.svm import LinearSVC\n",
        "from sklearn.linear_model import SGDClassifier\n",
        "from sklearn.linear_model import Perceptron\n",
        "from sklearn.linear_model import PassiveAggressiveClassifier\n",
        "from sklearn.naive_bayes import BernoulliNB, ComplementNB, MultinomialNB\n",
        "from sklearn.neighbors import KNeighborsClassifier\n",
        "from sklearn.neighbors import NearestCentroid\n",
        "from sklearn.ensemble import RandomForestClassifier\n",
        "from sklearn.utils.extmath import density\n",
        "from sklearn import metrics\n",
        "\n",
        "\n",
        "# Display progress logs on stdout\n",
        "logging.basicConfig(level=logging.INFO, format=\"%(asctime)s %(levelname)s %(message)s\")\n",
        "\n",
        "op = OptionParser()\n",
        "op.add_option(\n",
        "    \"--report\",\n",
        "    action=\"store_true\",\n",
        "    dest=\"print_report\",\n",
        "    help=\"Print a detailed classification report.\",\n",
        ")\n",
        "op.add_option(\n",
        "    \"--chi2_select\",\n",
        "    action=\"store\",\n",
        "    type=\"int\",\n",
        "    dest=\"select_chi2\",\n",
        "    help=\"Select some number of features using a chi-squared test\",\n",
        ")\n",
        "op.add_option(\n",
        "    \"--confusion_matrix\",\n",
        "    action=\"store_true\",\n",
        "    dest=\"print_cm\",\n",
        "    help=\"Print the confusion matrix.\",\n",
        ")\n",
        "op.add_option(\n",
        "    \"--top10\",\n",
        "    action=\"store_true\",\n",
        "    dest=\"print_top10\",\n",
        "    help=\"Print ten most discriminative terms per class for every classifier.\",\n",
        ")\n",
        "op.add_option(\n",
        "    \"--all_categories\",\n",
        "    action=\"store_true\",\n",
        "    dest=\"all_categories\",\n",
        "    help=\"Whether to use all categories or not.\",\n",
        ")\n",
        "op.add_option(\"--use_hashing\", action=\"store_true\", help=\"Use a hashing vectorizer.\")\n",
        "op.add_option(\n",
        "    \"--n_features\",\n",
        "    action=\"store\",\n",
        "    type=int,\n",
        "    default=2 ** 16,\n",
        "    help=\"n_features when using the hashing vectorizer.\",\n",
        ")\n",
        "op.add_option(\n",
        "    \"--filtered\",\n",
        "    action=\"store_true\",\n",
        "    help=(\n",
        "        \"Remove newsgroup information that is easily overfit: \"\n",
        "        \"headers, signatures, and quoting.\"\n",
        "    ),\n",
        ")\n",
        "\n",
        "\n",
        "def is_interactive():\n",
        "    return not hasattr(sys.modules[\"__main__\"], \"__file__\")\n",
        "\n",
        "\n",
        "# work-around for Jupyter notebook and IPython console\n",
        "argv = [] if is_interactive() else sys.argv[1:]\n",
        "(opts, args) = op.parse_args(argv)\n",
        "if len(args) > 0:\n",
        "    op.error(\"this script takes no arguments.\")\n",
        "    sys.exit(1)\n",
        "\n",
        "print(__doc__)\n",
        "op.print_help()\n",
        "print()"
      ],
      "execution_count": 11,
      "outputs": [
        {
          "output_type": "stream",
          "name": "stdout",
          "text": [
            "Automatically created module for IPython interactive environment\n",
            "Usage: ipykernel_launcher.py [options]\n",
            "\n",
            "Options:\n",
            "  -h, --help            show this help message and exit\n",
            "  --report              Print a detailed classification report.\n",
            "  --chi2_select=SELECT_CHI2\n",
            "                        Select some number of features using a chi-squared\n",
            "                        test\n",
            "  --confusion_matrix    Print the confusion matrix.\n",
            "  --top10               Print ten most discriminative terms per class for\n",
            "                        every classifier.\n",
            "  --all_categories      Whether to use all categories or not.\n",
            "  --use_hashing         Use a hashing vectorizer.\n",
            "  --n_features=N_FEATURES\n",
            "                        n_features when using the hashing vectorizer.\n",
            "  --filtered            Remove newsgroup information that is easily overfit:\n",
            "                        headers, signatures, and quoting.\n",
            "\n"
          ]
        }
      ]
    },
    {
      "cell_type": "markdown",
      "metadata": {
        "id": "LzN-1UWN-7QX"
      },
      "source": [
        "# Lasso and Elastic Net for Sparse Signals"
      ]
    },
    {
      "cell_type": "code",
      "metadata": {
        "colab": {
          "base_uri": "https://localhost:8080/",
          "height": 352
        },
        "id": "ZhbPMu6t-alx",
        "outputId": "cc562096-40bb-4b2d-d8da-2070f57ddbe0"
      },
      "source": [
        "import numpy as np\n",
        "import matplotlib.pyplot as plt\n",
        "\n",
        "from sklearn.metrics import r2_score\n",
        "\n",
        "# #############################################################################\n",
        "# Generate some sparse data to play with\n",
        "np.random.seed(42)\n",
        "\n",
        "n_samples, n_features = 50, 100\n",
        "X = np.random.randn(n_samples, n_features)\n",
        "\n",
        "# Decreasing coef w. alternated signs for visualization\n",
        "idx = np.arange(n_features)\n",
        "coef = (-1) ** idx * np.exp(-idx / 10)\n",
        "coef[10:] = 0  # sparsify coef\n",
        "y = np.dot(X, coef)\n",
        "\n",
        "# Add noise\n",
        "y += 0.01 * np.random.normal(size=n_samples)\n",
        "\n",
        "# Split data in train set and test set\n",
        "n_samples = X.shape[0]\n",
        "X_train, y_train = X[: n_samples // 2], y[: n_samples // 2]\n",
        "X_test, y_test = X[n_samples // 2 :], y[n_samples // 2 :]\n",
        "\n",
        "# #############################################################################\n",
        "# Lasso\n",
        "from sklearn.linear_model import Lasso\n",
        "\n",
        "alpha = 0.1\n",
        "lasso = Lasso(alpha=alpha)\n",
        "\n",
        "y_pred_lasso = lasso.fit(X_train, y_train).predict(X_test)\n",
        "r2_score_lasso = r2_score(y_test, y_pred_lasso)\n",
        "print(lasso)\n",
        "print(\"r^2 on test data : %f\" % r2_score_lasso)\n",
        "\n",
        "# #############################################################################\n",
        "# ElasticNet\n",
        "from sklearn.linear_model import ElasticNet\n",
        "\n",
        "enet = ElasticNet(alpha=alpha, l1_ratio=0.7)\n",
        "\n",
        "y_pred_enet = enet.fit(X_train, y_train).predict(X_test)\n",
        "r2_score_enet = r2_score(y_test, y_pred_enet)\n",
        "print(enet)\n",
        "print(\"r^2 on test data : %f\" % r2_score_enet)\n",
        "\n",
        "m, s, _ = plt.stem(\n",
        "    np.where(enet.coef_)[0],\n",
        "    enet.coef_[enet.coef_ != 0],\n",
        "    markerfmt=\"x\",\n",
        "    label=\"Elastic net coefficients\",\n",
        "    use_line_collection=True,\n",
        ")\n",
        "plt.setp([m, s], color=\"#2ca02c\")\n",
        "m, s, _ = plt.stem(\n",
        "    np.where(lasso.coef_)[0],\n",
        "    lasso.coef_[lasso.coef_ != 0],\n",
        "    markerfmt=\"x\",\n",
        "    label=\"Lasso coefficients\",\n",
        "    use_line_collection=True,\n",
        ")\n",
        "plt.setp([m, s], color=\"#ff7f0e\")\n",
        "plt.stem(\n",
        "    np.where(coef)[0],\n",
        "    coef[coef != 0],\n",
        "    label=\"true coefficients\",\n",
        "    markerfmt=\"bx\",\n",
        "    use_line_collection=True,\n",
        ")\n",
        "\n",
        "plt.legend(loc=\"best\")\n",
        "plt.title(\n",
        "    \"Lasso $R^2$: %.3f, Elastic Net $R^2$: %.3f\" % (r2_score_lasso, r2_score_enet)\n",
        ")\n",
        "plt.show()"
      ],
      "execution_count": 12,
      "outputs": [
        {
          "output_type": "stream",
          "name": "stdout",
          "text": [
            "Lasso(alpha=0.1)\n",
            "r^2 on test data : 0.658064\n",
            "ElasticNet(alpha=0.1, l1_ratio=0.7)\n",
            "r^2 on test data : 0.642515\n"
          ]
        },
        {
          "output_type": "display_data",
          "data": {
            "image/png": "[encoded data removed]",
            "text/plain": [
              "<Figure size 432x288 with 1 Axes>"
            ]
          },
          "metadata": {
            "needs_background": "light"
          }
        }
      ]
    },
    {
      "cell_type": "code",
      "metadata": {
        "id": "BwbnltCz-5bt"
      },
      "source": [
        ""
      ],
      "execution_count": null,
      "outputs": []
    }
  ]
}